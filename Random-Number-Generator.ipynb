{
 "cells": [
  {
   "cell_type": "code",
   "execution_count": 3,
   "id": "0c323031",
   "metadata": {},
   "outputs": [],
   "source": [
    "from random import randint\n",
    "\n",
    "def random_number():\n",
    "    print(\"Welcome to Random Number Genrator!\\n\")\n",
    "    ask = input(\"Do you want to continue, Yes or No? \")    \n",
    "    \n",
    "    if ask[0].lower() == 'y':\n",
    "        online = True\n",
    "    else:\n",
    "        return (\"Thanks for using random number genrator\")\n",
    "        online = False\n",
    "    \n",
    "    \n",
    "    while online == True:\n",
    "        first = int(input(\"Starting range: \"))\n",
    "        second = int(input(\"Ending range: \"))\n",
    "        result = randint(first,second)\n",
    "        print(f\"Result: {result}\\n\")\n",
    "        ask = input(\"Do you want to continue, Yes or No? \")\n",
    "        \n",
    "        if ask[0].lower() == 'n':\n",
    "            print(\"Thanks for using random number genrator\")\n",
    "            break"
   ]
  },
  {
   "cell_type": "code",
   "execution_count": 5,
   "id": "1ba8a181",
   "metadata": {},
   "outputs": [
    {
     "name": "stdout",
     "output_type": "stream",
     "text": [
      "Welcome to Random Number Genrator!\n",
      "\n",
      "Do you want to continue, Yes or No? Yes\n",
      "Starting range: 1\n",
      "Ending range: 1000\n",
      "Result: 119\n",
      "\n",
      "Do you want to continue, Yes or No? No\n",
      "Thanks for using random number genrator\n"
     ]
    }
   ],
   "source": [
    "random_number()"
   ]
  },
  {
   "cell_type": "code",
   "execution_count": null,
   "id": "3ae1c149",
   "metadata": {},
   "outputs": [],
   "source": []
  }
 ],
 "metadata": {
  "kernelspec": {
   "display_name": "Python 3 (ipykernel)",
   "language": "python",
   "name": "python3"
  },
  "language_info": {
   "codemirror_mode": {
    "name": "ipython",
    "version": 3
   },
   "file_extension": ".py",
   "mimetype": "text/x-python",
   "name": "python",
   "nbconvert_exporter": "python",
   "pygments_lexer": "ipython3",
   "version": "3.9.7"
  }
 },
 "nbformat": 4,
 "nbformat_minor": 5
}
