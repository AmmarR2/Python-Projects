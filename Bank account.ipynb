{
 "cells": [
  {
   "cell_type": "code",
   "execution_count": 1,
   "id": "74a784de",
   "metadata": {},
   "outputs": [],
   "source": [
    "class account():\n",
    "    \n",
    "    def __init__(self,Owner,Value):\n",
    "        self.Owner = Owner\n",
    "        self.Value = Value\n",
    "    \n",
    "    def dep(self,amount):\n",
    "        amount = int(input(\"Amount: \"))\n",
    "        self.Value = self.Value + amount\n",
    "        print(\"Deposit Accepted account value now is {}\".format(self.Value))\n",
    "            \n",
    "    \n",
    "    def wit(self,amount=0):\n",
    "        amount = int(input(\"Amount: \"))\n",
    "    \n",
    "        if self.Value >= amount:\n",
    "            self.Value = self.Value - amount\n",
    "            print(f\"Withdrawal Accepted, Account value is now {self.Value}\")\n",
    "        else:\n",
    "            print(\"not enough money\")\n",
    "            \n",
    "    def __str__(self):\n",
    "        return f\"Owner: {self.Owner} |  Balance: {self.Value}\""
   ]
  },
  {
   "cell_type": "code",
   "execution_count": 2,
   "id": "677a3808",
   "metadata": {},
   "outputs": [],
   "source": [
    "acct1 = account(\"Ammar\",0)"
   ]
  },
  {
   "cell_type": "code",
   "execution_count": 4,
   "id": "63d3aff2",
   "metadata": {},
   "outputs": [
    {
     "name": "stdout",
     "output_type": "stream",
     "text": [
      "Amount: 1000000000\n",
      "Deposit Accepted account value now is 1000000000\n"
     ]
    }
   ],
   "source": [
    "acct1.dep(amount=0)"
   ]
  },
  {
   "cell_type": "code",
   "execution_count": 5,
   "id": "150adab7",
   "metadata": {},
   "outputs": [
    {
     "name": "stdout",
     "output_type": "stream",
     "text": [
      "Amount: 100000000\n",
      "Withdrawal Accepted, Account value is now 900000000\n"
     ]
    }
   ],
   "source": [
    "acct1.wit(amount=0)"
   ]
  },
  {
   "cell_type": "code",
   "execution_count": 6,
   "id": "0cf4bbb9",
   "metadata": {},
   "outputs": [
    {
     "name": "stdout",
     "output_type": "stream",
     "text": [
      "Owner: Ammar |  Balance: 900000000\n"
     ]
    }
   ],
   "source": [
    "print(acct1)"
   ]
  },
  {
   "cell_type": "code",
   "execution_count": null,
   "id": "d9c53655",
   "metadata": {},
   "outputs": [],
   "source": [
    "print()"
   ]
  },
  {
   "cell_type": "code",
   "execution_count": null,
   "id": "f7e9b3d3",
   "metadata": {},
   "outputs": [],
   "source": []
  },
  {
   "cell_type": "code",
   "execution_count": null,
   "id": "b145c12d",
   "metadata": {},
   "outputs": [],
   "source": []
  }
 ],
 "metadata": {
  "kernelspec": {
   "display_name": "Python 3 (ipykernel)",
   "language": "python",
   "name": "python3"
  },
  "language_info": {
   "codemirror_mode": {
    "name": "ipython",
    "version": 3
   },
   "file_extension": ".py",
   "mimetype": "text/x-python",
   "name": "python",
   "nbconvert_exporter": "python",
   "pygments_lexer": "ipython3",
   "version": "3.9.7"
  }
 },
 "nbformat": 4,
 "nbformat_minor": 5
}
