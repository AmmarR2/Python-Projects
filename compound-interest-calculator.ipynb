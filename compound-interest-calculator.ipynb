{
 "cells": [
  {
   "cell_type": "code",
   "execution_count": 2,
   "id": "bd982377",
   "metadata": {},
   "outputs": [],
   "source": [
    "def compound_interest():\n",
    "    principle = int(input(\"Principle:\"))\n",
    "    rate = float(input(\"Rate: \"))\n",
    "    print(\"calculting... \")\n",
    "    formula = principle*rate\n",
    "    t = formula+principle\n",
    "    print(f\"Result: {t}\")\n",
    "    ask = input((\"do you want multiply again? Yes or no \"))\n",
    "    if ask[0].lower() == 'y':\n",
    "        print(\"calculting... \")\n",
    "        formula2 = t*rate\n",
    "        print(formula2)\n",
    "        total =  formula2+t\n",
    "        print(f\"Result: {total}\")\n",
    "    else:\n",
    "        print(\"thanks for using calculator!\")\n",
    "            \n"
   ]
  },
  {
   "cell_type": "code",
   "execution_count": 3,
   "id": "af0261dd",
   "metadata": {},
   "outputs": [
    {
     "name": "stdout",
     "output_type": "stream",
     "text": [
      "Principle:1000\n",
      "Rate: 0.10\n",
      "calculting... \n",
      "Result: 1100.0\n",
      "do you want multiply again? Yes or no Yes\n",
      "calculting... \n",
      "110.0\n",
      "Result: 1210.0\n"
     ]
    }
   ],
   "source": [
    "compound_interest()\n"
   ]
  }
 ],
 "metadata": {
  "kernelspec": {
   "display_name": "Python 3 (ipykernel)",
   "language": "python",
   "name": "python3"
  },
  "language_info": {
   "codemirror_mode": {
    "name": "ipython",
    "version": 3
   },
   "file_extension": ".py",
   "mimetype": "text/x-python",
   "name": "python",
   "nbconvert_exporter": "python",
   "pygments_lexer": "ipython3",
   "version": "3.9.7"
  }
 },
 "nbformat": 4,
 "nbformat_minor": 5
}
