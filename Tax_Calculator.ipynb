{
 "cells": [
  {
   "cell_type": "code",
   "execution_count": 1,
   "id": "203d8590",
   "metadata": {},
   "outputs": [],
   "source": [
    "def tax_calculator():\n",
    "    print(\"Welcome to Tax Calculator, enter values below\")\n",
    "    tax = float(input(\"Tax Rate(decimal form): \"))\n",
    "    amount = float(input(\"Amount of money: \"))\n",
    "    \n",
    "    t_a = tax*amount\n",
    "    total = t_a+amount\n",
    "    print(f\"Tax: {t_a}\")\n",
    "    print(f\"Total with tax: {total}\")\n",
    "    "
   ]
  },
  {
   "cell_type": "code",
   "execution_count": 2,
   "id": "79d4dcd5",
   "metadata": {},
   "outputs": [
    {
     "name": "stdout",
     "output_type": "stream",
     "text": [
      "Welcome to Tax Calculator, enter values below\n",
      "Tax Rate(decimal form): 0.10\n",
      "Amount of money: 1000\n",
      "Tax: 100.0\n",
      "Total with tax: 1100.0\n"
     ]
    }
   ],
   "source": [
    "tax_calculator()"
   ]
  },
  {
   "cell_type": "code",
   "execution_count": null,
   "id": "a853a515",
   "metadata": {},
   "outputs": [],
   "source": []
  }
 ],
 "metadata": {
  "kernelspec": {
   "display_name": "Python 3 (ipykernel)",
   "language": "python",
   "name": "python3"
  },
  "language_info": {
   "codemirror_mode": {
    "name": "ipython",
    "version": 3
   },
   "file_extension": ".py",
   "mimetype": "text/x-python",
   "name": "python",
   "nbconvert_exporter": "python",
   "pygments_lexer": "ipython3",
   "version": "3.9.7"
  }
 },
 "nbformat": 4,
 "nbformat_minor": 5
}
