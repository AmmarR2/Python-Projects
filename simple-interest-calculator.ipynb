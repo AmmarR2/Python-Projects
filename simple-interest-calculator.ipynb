{
 "cells": [
  {
   "cell_type": "code",
   "execution_count": 1,
   "id": "e140559d",
   "metadata": {},
   "outputs": [],
   "source": [
    "def simple_interest():\n",
    "    #take in player inputs\n",
    "    principle = int(input(\"principle: \"))\n",
    "    rate = float(input(\"Rate: \"))\n",
    "    years = int(input(\"Years: \"))\n",
    "    #put them in the formula\n",
    "    formula = principle*years\n",
    "    formula2 = formula*rate\n",
    "    #return it\n",
    "    result = formula2+principle\n",
    "    print(f\"Result: {result}\")"
   ]
  },
  {
   "cell_type": "code",
   "execution_count": 2,
   "id": "7c29d692",
   "metadata": {},
   "outputs": [
    {
     "name": "stdout",
     "output_type": "stream",
     "text": [
      "principle: 1000\n",
      "Rate: 0.10\n",
      "Years: 5\n",
      "Result: 1500.0\n"
     ]
    }
   ],
   "source": [
    "simple_interest()"
   ]
  },
  {
   "cell_type": "code",
   "execution_count": null,
   "id": "867a93a5",
   "metadata": {},
   "outputs": [],
   "source": []
  }
 ],
 "metadata": {
  "kernelspec": {
   "display_name": "Python 3 (ipykernel)",
   "language": "python",
   "name": "python3"
  },
  "language_info": {
   "codemirror_mode": {
    "name": "ipython",
    "version": 3
   },
   "file_extension": ".py",
   "mimetype": "text/x-python",
   "name": "python",
   "nbconvert_exporter": "python",
   "pygments_lexer": "ipython3",
   "version": "3.9.7"
  }
 },
 "nbformat": 4,
 "nbformat_minor": 5
}
