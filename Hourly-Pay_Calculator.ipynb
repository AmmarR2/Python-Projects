{
 "cells": [
  {
   "cell_type": "code",
   "execution_count": 19,
   "id": "cd5518b4",
   "metadata": {},
   "outputs": [],
   "source": [
    "def hourly_pay():\n",
    "    \n",
    "    tax_rate = float(input(\"Tax-Rate(decimal): \"))\n",
    "    \n",
    "    print(\"Welcome to Hourly-Pay Calculator! Enter info Below...\\n\")\n",
    "    \n",
    "    print(\"----------------------------------------------------------\\n\")\n",
    "    \n",
    "    per_hour = int(input(\"How much do you get payed an hour? \"))\n",
    "    hours = int(input(\"Hours: \"))\n",
    "    minutes = int(input(\"Minutes: \"))\n",
    "    if minutes > 60:\n",
    "        print(\"Cant be over 60! \")\n",
    "        minutes = int(input(\"Minutes: \"))\n",
    "    \n",
    "   \n",
    "    h_total = per_hour*hours\n",
    "    per_min = per_hour/60\n",
    "    m_total = per_min*minutes\n",
    "    \n",
    "    total_1 = m_total+h_total\n",
    "    total_2 = tax_rate*total_1\n",
    "    daily_pay = total_1-total_2\n",
    "    #return daily_pay\n",
    "    print(f\"Total: {daily_pay}\")\n",
    "    \n",
    "    \n",
    "   \n",
    " \n",
    "    #ask if they want to see there pay for the week and take in the amount of days they worked that week\n",
    "    ask_week = input(\"Do you want to know your total pay for the week? \\n\")\n",
    "    if ask_week[0].lower() == 'y':\n",
    "        weekly_work = int(input(\"How many days out of the week do you work? \\n\"))\n",
    "    if weekly_work > 7:\n",
    "        print(\"Can't be greater than 7...\")\n",
    "        weekly_work = int(input(\"How many days out of the week do you work? \\n\"))\n",
    "    else:\n",
    "        pass\n",
    "    weekly_pay = daily_pay*weekly_work\n",
    "    print(\"Calculating...\\n\")\n",
    "    print(f\"Weekly Pay: {weekly_pay}\")\n",
    "\n",
    "    #ask if they want to see there pay for the month and take in teh amount of weeks they worked that month\n",
    "    ask_month = input(\"Do you want to know your total pay for the month? \\n\")\n",
    "    if ask_week[0].lower() =='y' and ask_month[0].lower() =='y':\n",
    "        monthly_work = int(input(\"How many weeks did you work this month? \\n\"))\n",
    "        if monthly_work > 4:\n",
    "            print(\"Can't be greater than 4...\")\n",
    "            monthly_work = int(input(\"How many weeks did you work this month? \\n\"))\n",
    "    \n",
    "        monthly_pay = weekly_pay*monthly_work\n",
    "        print(\"Calculating...\\n\")\n",
    "        print(f\"Monthly Pay: {monthly_pay}\")\n",
    "    else:\n",
    "        pass\n",
    "        \n",
    "        \n",
    "        \n",
    "        \n",
    "        \n",
    "        "
   ]
  },
  {
   "cell_type": "code",
   "execution_count": 21,
   "id": "ddfffc86",
   "metadata": {},
   "outputs": [
    {
     "name": "stdout",
     "output_type": "stream",
     "text": [
      "Tax-Rate(decimal): 0.10\n",
      "Welcome to Hourly-Pay Calculator! Enter info Below...\n",
      "\n",
      "----------------------------------------------------------\n",
      "\n",
      "How much do you get payed an hour? 8\n",
      "Hours: 4\n",
      "Minutes: 0\n",
      "Total: 28.8\n",
      "Do you want to know your total pay for the week? \n",
      "yes\n",
      "How many days out of the week do you work? \n",
      "3\n",
      "Calculating...\n",
      "\n",
      "Weekly Pay: 86.4\n",
      "Do you want to know your total pay for the month? \n",
      "y\n",
      "How many weeks did you work this month? \n",
      "5\n",
      "Can't be greater than 4...\n",
      "How many weeks did you work this month? \n",
      "4\n",
      "Calculating...\n",
      "\n",
      "Monthly Pay: 345.6\n"
     ]
    }
   ],
   "source": [
    "hourly_pay()"
   ]
  },
  {
   "cell_type": "code",
   "execution_count": null,
   "id": "820eb77a",
   "metadata": {},
   "outputs": [],
   "source": []
  }
 ],
 "metadata": {
  "kernelspec": {
   "display_name": "Python 3 (ipykernel)",
   "language": "python",
   "name": "python3"
  },
  "language_info": {
   "codemirror_mode": {
    "name": "ipython",
    "version": 3
   },
   "file_extension": ".py",
   "mimetype": "text/x-python",
   "name": "python",
   "nbconvert_exporter": "python",
   "pygments_lexer": "ipython3",
   "version": "3.9.7"
  }
 },
 "nbformat": 4,
 "nbformat_minor": 5
}
