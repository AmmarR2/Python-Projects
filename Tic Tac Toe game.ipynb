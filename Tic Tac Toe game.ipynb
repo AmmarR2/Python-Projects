{
 "cells": [
  {
   "cell_type": "code",
   "execution_count": 2,
   "id": "8d16828f",
   "metadata": {},
   "outputs": [],
   "source": [
    "test_board = ['#','X','O','X','O','X','O','X','O','X']"
   ]
  },
  {
   "cell_type": "code",
   "execution_count": 3,
   "id": "7afc7c63",
   "metadata": {},
   "outputs": [],
   "source": [
    "from IPython.display import clear_output\n",
    "\n",
    "def display_board(board):\n",
    "    print(board[7]+'|'+board[8]+'|'+board[9])\n",
    "    print(board[4]+'|'+board[5]+'|'+board[6])\n",
    "    print(board[1]+'|'+board[2]+'|'+board[3])\n",
    "    #Prints out the board in a 3 by 3 format"
   ]
  },
  {
   "cell_type": "code",
   "execution_count": 4,
   "id": "b06e97de",
   "metadata": {},
   "outputs": [
    {
     "name": "stdout",
     "output_type": "stream",
     "text": [
      " | | \n",
      " | | \n",
      " | | \n"
     ]
    }
   ],
   "source": [
    "test_board =[' ']*10\n",
    "display_board(test_board)"
   ]
  },
  {
   "cell_type": "code",
   "execution_count": 5,
   "id": "8603ab3e",
   "metadata": {},
   "outputs": [],
   "source": [
    "def player_input():\n",
    "    #keeps asking player 1 to choose X or O\n",
    "    marker = ''\n",
    "    while marker != 'X' and marker != 'O':\n",
    "        #if the players input is npt X or O\n",
    "        marker = input('Player 1:  choose X or O: ')\n",
    "        #take that input\n",
    "    \n",
    "    #Assign Player 2 the opposite marker of player 1 \n",
    "    if marker == 'X':\n",
    "        return ('X','O')\n",
    "    else:\n",
    "        return ('O','X')\n",
    "    #asign the other player the opossite letter "
   ]
  },
  {
   "cell_type": "code",
   "execution_count": 6,
   "id": "4cb4fbd8",
   "metadata": {},
   "outputs": [],
   "source": [
    "def place_marker(board,marker,position):\n",
    "    board[position] = marker\n",
    "    #The board the position the player put in \n"
   ]
  },
  {
   "cell_type": "code",
   "execution_count": 9,
   "id": "4b53bf6f",
   "metadata": {},
   "outputs": [],
   "source": [
    "def win_check(board, mark):\n",
    "    \n",
    "    #checks every combanition to see on wins and returns a boolian\n",
    "    return (board[7] == mark and board[8] == mark and board[9] == mark) or (board[4] == mark and board[5] == mark and board[6] == mark) or (board[1] == mark and board[2] == mark and board[3] == mark) or (board[7] == mark and board[4] == mark and board[1] == mark) or (board[8] == mark and board[5] == mark and board[2] == mark) or (board[9] == mark and board[6] == mark and board[3] == mark) or (board[7] == mark and board[5] == mark and board[3] == mark) or (board[9] == mark and board[5] == mark and board[1] == mark)"
   ]
  },
  {
   "cell_type": "code",
   "execution_count": 11,
   "id": "e04655f4",
   "metadata": {},
   "outputs": [],
   "source": [
    "import random\n",
    "\n",
    "def choose_first():\n",
    "    \n",
    "    flip =  random.randint(0,1)\n",
    "    \n",
    "    if flip == 0:\n",
    "        return 'Player 1'\n",
    "    else:\n",
    "        return 'Player 2'\n",
    "    #flips a coin 50% chance for either player to go first"
   ]
  },
  {
   "cell_type": "code",
   "execution_count": 12,
   "id": "bc0f8b8a",
   "metadata": {},
   "outputs": [],
   "source": [
    "def space_check(board, position):\n",
    "    return board[position] == \" \" \n",
    "#checks if the spot the player inputed is empty\n"
   ]
  },
  {
   "cell_type": "code",
   "execution_count": 13,
   "id": "fe0eef2d",
   "metadata": {},
   "outputs": [],
   "source": [
    "def full_board_check(board):\n",
    "    \n",
    "    for i in range(1,10):\n",
    "        if space_check(board,i):\n",
    "            return False\n",
    "    #if board full return True else: False^^\n",
    "    return True"
   ]
  },
  {
   "cell_type": "code",
   "execution_count": 14,
   "id": "e6ed8f07",
   "metadata": {},
   "outputs": [],
   "source": [
    "def player_choice(board):\n",
    "    position = 0\n",
    "    \n",
    "    while position not in [1,2,3,4,5,6,7,8,9] or not space_check(board,position):\n",
    "        position = int(input('Choose a position: 1-9'))\n",
    "   \n",
    "    return position\n",
    "#takes in player choice thennn checks if its in the range of 1-10 and doesn't \n",
    "#stop asking untill the player responds something in range\n",
    "#if position is empty then the player can choose a s"
   ]
  },
  {
   "cell_type": "code",
   "execution_count": 15,
   "id": "4a9464b5",
   "metadata": {},
   "outputs": [],
   "source": [
    "def replay():\n",
    "    choice = input(\"Play again? Enter Yes or No(Write exactly Yes)\")\n",
    "    \n",
    "    return choice == 'Yes'\n",
    "    #asks the player if they want to keep playing"
   ]
  },
  {
   "cell_type": "code",
   "execution_count": 17,
   "id": "7925d3ae",
   "metadata": {},
   "outputs": [
    {
     "name": "stdout",
     "output_type": "stream",
     "text": [
      "Welcome to TicTacToe\n",
      "Player 1:  choose X or O: X\n",
      "Player 1 will go first\n",
      "Ready to play? Y or N?y\n",
      " | | \n",
      " | | \n",
      " | | \n",
      "Choose a position: 1-98\n",
      " |X| \n",
      " | | \n",
      " | | \n",
      "Choose a position: 1-97\n",
      "O|X| \n",
      " | | \n",
      " | | \n",
      "Choose a position: 1-95\n",
      "O|X| \n",
      " |X| \n",
      " | | \n",
      "Choose a position: 1-93\n",
      "O|X| \n",
      " |X| \n",
      " | |O\n",
      "Choose a position: 1-94\n",
      "O|X| \n",
      "X|X| \n",
      " | |O\n",
      "Choose a position: 1-92\n",
      "O|X| \n",
      "X|X| \n",
      " |O|O\n",
      "Choose a position: 1-91\n",
      "O|X| \n",
      "X|X| \n",
      "X|O|O\n",
      "Choose a position: 1-96\n",
      "O|X| \n",
      "X|X|O\n",
      "X|O|O\n",
      "Choose a position: 1-99\n",
      "O|X|X\n",
      "X|X|O\n",
      "X|O|O\n",
      "PLAYER 1 HAS WON\n",
      "Play again? Enter Yes or No(Write exactly Yes)NO\n"
     ]
    }
   ],
   "source": [
    "#while loop to keep running the game\n",
    "print('Welcome to TicTacToe')\n",
    "\n",
    "while True:\n",
    "\n",
    "     \n",
    "    #play the game\n",
    "\n",
    "    \n",
    "    #set everything up (board,Whos First, Choose Markers X,O)\n",
    "    the_board = [' ']*10\n",
    "    #prints out the board\n",
    "    player1_marker,player2_marker = player_input()\n",
    "    #the player_marker = the input of the player\n",
    "    turn = choose_first()\n",
    "    print(turn + ' will go first')\n",
    "    #50/50 chance\n",
    "    play_game = input('Ready to play? Y or N?')\n",
    "    \n",
    "    if play_game == 'Y' or 'N':\n",
    "        game_on = True\n",
    "    else:\n",
    "        game_on = False\n",
    "    #asks if they want to keep playing \n",
    "    \n",
    "    ##GAME PLAY\n",
    "    \n",
    "    while game_on:\n",
    "        if turn == 'Player 1':\n",
    "            #show the board\n",
    "            display_board(the_board)\n",
    "            #choose a position\n",
    "            position = player_choice(the_board)\n",
    "            #place marker on the position\n",
    "            place_marker(the_board,player1_marker,position)\n",
    "            #check if they won\n",
    "            if win_check(the_board,player1_marker):\n",
    "                display_board(the_board)\n",
    "                print('PLAYER 1 HAS WON')\n",
    "                game_on = False\n",
    "            else:\n",
    "                if full_board_check(the_board):\n",
    "                    display_board(the_board)\n",
    "                    print(\"TIE GAME\")\n",
    "                    game_on = False\n",
    "                else:\n",
    "                    turn = 'Player 2' \n",
    "        else:\n",
    "            #show the board\n",
    "            display_board(the_board)\n",
    "            #choose a position\n",
    "            position = player_choice(the_board)\n",
    "            #place marker on the position\n",
    "            place_marker(the_board,player2_marker,position)\n",
    "            #check if they won\n",
    "            if win_check(the_board,player2_marker):\n",
    "                display_board(the_board)\n",
    "                print('PLAYER 2 HAS WON')\n",
    "                game_on = False\n",
    "            else:\n",
    "                if full_board_check(the_board):\n",
    "                    display_board(the_board)\n",
    "                    print(\"TIE GAME\")\n",
    "                    game_on = False\n",
    "                else:\n",
    "                     turn = 'Player 1'\n",
    "            \n",
    "            \n",
    "    \n",
    "    if not replay():\n",
    "        break\n",
    "        \n",
    "# Break out of the while loop"
   ]
  }
 ],
 "metadata": {
  "kernelspec": {
   "display_name": "Python 3 (ipykernel)",
   "language": "python",
   "name": "python3"
  },
  "language_info": {
   "codemirror_mode": {
    "name": "ipython",
    "version": 3
   },
   "file_extension": ".py",
   "mimetype": "text/x-python",
   "name": "python",
   "nbconvert_exporter": "python",
   "pygments_lexer": "ipython3",
   "version": "3.9.7"
  }
 },
 "nbformat": 4,
 "nbformat_minor": 5
}
